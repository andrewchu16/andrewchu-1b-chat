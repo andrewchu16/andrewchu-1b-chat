{
 "cells": [
  {
   "cell_type": "code",
   "execution_count": null,
   "id": "de3b8c69",
   "metadata": {},
   "outputs": [],
   "source": [
    "%pip install mlx-lm"
   ]
  },
  {
   "cell_type": "code",
   "execution_count": null,
   "id": "5cbf5b52",
   "metadata": {},
   "outputs": [],
   "source": [
    "import mlx_lm"
   ]
  },
  {
   "cell_type": "code",
   "execution_count": null,
   "id": "4fc6fa85",
   "metadata": {},
   "outputs": [],
   "source": [
    "model, tokenizer = mlx_lm.load(\"mlx-community/Llama-3.2-1B-Instruct-4bit\")"
   ]
  },
  {
   "cell_type": "code",
   "execution_count": 14,
   "id": "b3c6ae18",
   "metadata": {},
   "outputs": [
    {
     "name": "stdout",
     "output_type": "stream",
     "text": [
      "==========\n",
      "Hello! How can I assist you today?\n",
      "==========\n",
      "Prompt: 36 tokens, 468.258 tokens-per-sec\n",
      "Generation: 10 tokens, 137.666 tokens-per-sec\n",
      "Peak memory: 0.747 GB\n"
     ]
    }
   ],
   "source": [
    "prompt = \"hello\"\n",
    "\n",
    "if tokenizer.chat_template is not None:\n",
    "    messages = [{\"role\": \"user\", \"content\": prompt}]\n",
    "    prompt = tokenizer.apply_chat_template(\n",
    "        messages, add_generation_prompt=True\n",
    "    )\n",
    "\n",
    "response = mlx_lm.generate(model, tokenizer, prompt=prompt, verbose=True)"
   ]
  },
  {
   "cell_type": "code",
   "execution_count": null,
   "id": "1d44312d",
   "metadata": {},
   "outputs": [],
   "source": [
    "print(tokenizer.chat_template)"
   ]
  },
  {
   "cell_type": "code",
   "execution_count": null,
   "id": "5a1df459",
   "metadata": {},
   "outputs": [],
   "source": [
    "response"
   ]
  }
 ],
 "metadata": {
  "kernelspec": {
   "display_name": "Python 3",
   "language": "python",
   "name": "python3"
  },
  "language_info": {
   "codemirror_mode": {
    "name": "ipython",
    "version": 3
   },
   "file_extension": ".py",
   "mimetype": "text/x-python",
   "name": "python",
   "nbconvert_exporter": "python",
   "pygments_lexer": "ipython3",
   "version": "3.11.13"
  }
 },
 "nbformat": 4,
 "nbformat_minor": 5
}
